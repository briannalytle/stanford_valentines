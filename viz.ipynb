{
 "cells": [
  {
   "cell_type": "code",
   "execution_count": 1,
   "metadata": {},
   "outputs": [],
   "source": [
    "import numpy as np\n",
    "import pandas as pd"
   ]
  },
  {
   "cell_type": "code",
   "execution_count": 2,
   "metadata": {
    "scrolled": true
   },
   "outputs": [],
   "source": [
    "df = pd.read_excel('couples_survey.xlsx')"
   ]
  },
  {
   "cell_type": "code",
   "execution_count": 3,
   "metadata": {},
   "outputs": [
    {
     "data": {
      "text/plain": [
       "Index(['How old are you?', 'Educational level', 'Educational level category',\n",
       "       'Ethnic group', 'Gender', 'Size of Houshold', 'Type of House',\n",
       "       'Houshold Income', 'Marital Status', 'Children in Household',\n",
       "       'Working status', 'Is your partner male or female?',\n",
       "       'What is the age difference between you and your partner?',\n",
       "       'What is your partners race?',\n",
       "       'Would your partner describe him_herself as a born again or Evangelical Christian?',\n",
       "       'What is your partners religion?',\n",
       "       'Does he_she has the same religion as with 16 yrs?',\n",
       "       'What was his_hers religion with 16 years old?',\n",
       "       'How old is your partner?',\n",
       "       'What is the highest level of schooling your partner has completed?',\n",
       "       'Highest level of schooling of your partners mother?',\n",
       "       'Political opinion of your partner?',\n",
       "       'Do you have the same religion as with 16 yrs?',\n",
       "       'What was your religion with 16 years old?',\n",
       "       'What is the highest level of schooling your mother has completed?',\n",
       "       'Between being born and being 16 years old where did live mostly?',\n",
       "       'How many of the relatives you are not living with do you see at least once a month?',\n",
       "       'What Gender are you most attracted to?',\n",
       "       'Are you currently living with your partner?',\n",
       "       'Have you ever lived together with your partner?',\n",
       "       'How old were you when you first met your partner?',\n",
       "       'How old were you when your romantic relationship began?',\n",
       "       'How old were you when your first lived with your partner?',\n",
       "       'How old were you when you married?',\n",
       "       'How long have you been in a romantic relationship?',\n",
       "       'Who earned more income last year?',\n",
       "       'Did you and your partner attend the same high school?',\n",
       "       'Did you and your partner attend the same college or uni?',\n",
       "       'Did you and your partner grow up in the same city or town?',\n",
       "       'Did your parents know your partner before you met?',\n",
       "       'Which of your parents are alive today?',\n",
       "       'How do your parents feel about your partner?',\n",
       "       'Did you use internet service to meet?',\n",
       "       'How would you describe the quality of your relationship?',\n",
       "       'Where did you meet?', 'Who introduced you to your partner?',\n",
       "       'Youngest Member in Household', 'Oldest Member in Household',\n",
       "       'Average Age in Household',\n",
       "       'Apart from you, more Women or Men in your Houshold?',\n",
       "       'What kind of people share the houshold with you',\n",
       "       'How many times have you been married',\n",
       "       'Are you married or do you have a partner?', 'Cluster', 'Collection'],\n",
       "      dtype='object')"
      ]
     },
     "execution_count": 3,
     "metadata": {},
     "output_type": "execute_result"
    }
   ],
   "source": [
    "df.columns"
   ]
  },
  {
   "cell_type": "markdown",
   "metadata": {},
   "source": [
    "Columns I want to clean:\n",
    "- 'Ethnic Group'\n",
    "- 'Gender'\n",
    "- 'Working Status'\n",
    "- 'What is the age difference between you and your partner?'\n",
    "- 'How old is your partner?'\n",
    "- 'How old were you when your romantic relationship began?'\n",
    "- 'How long have you been in a romantic relationship?'\n",
    "- 'How do your parents feel about your partner?'\n",
    "- 'Did you use internet service to meet?'\n",
    "- 'Where did you meet?'\n",
    "- 'Who introduced you to your partner?'"
   ]
  },
  {
   "cell_type": "code",
   "execution_count": 4,
   "metadata": {},
   "outputs": [],
   "source": [
    "df['Who introduced you to your partner?'] = df['Who introduced you to your partner?'].astype('str')\n",
    "df['Where did you meet?'] = df['Where did you meet?'].astype('str')\n",
    "df['Did you use internet service to meet?'] = df['Did you use internet service to meet?'].astype('str')\n",
    "df['Did you use internet service to meet?'] = df['Did you use internet service to meet?'].str.replace(',', '')"
   ]
  },
  {
   "cell_type": "code",
   "execution_count": 5,
   "metadata": {
    "scrolled": true
   },
   "outputs": [
    {
     "name": "stderr",
     "output_type": "stream",
     "text": [
      "C:\\Users\\Brianna Lytle\\Anaconda3\\lib\\site-packages\\ipykernel_launcher.py:3: SettingWithCopyWarning: \n",
      "A value is trying to be set on a copy of a slice from a DataFrame\n",
      "\n",
      "See the caveats in the documentation: http://pandas.pydata.org/pandas-docs/stable/user_guide/indexing.html#returning-a-view-versus-a-copy\n",
      "  This is separate from the ipykernel package so we can avoid doing imports until\n",
      "C:\\Users\\Brianna Lytle\\Anaconda3\\lib\\site-packages\\ipykernel_launcher.py:7: SettingWithCopyWarning: \n",
      "A value is trying to be set on a copy of a slice from a DataFrame\n",
      "\n",
      "See the caveats in the documentation: http://pandas.pydata.org/pandas-docs/stable/user_guide/indexing.html#returning-a-view-versus-a-copy\n",
      "  import sys\n",
      "C:\\Users\\Brianna Lytle\\Anaconda3\\lib\\site-packages\\ipykernel_launcher.py:5: SettingWithCopyWarning: \n",
      "A value is trying to be set on a copy of a slice from a DataFrame\n",
      "\n",
      "See the caveats in the documentation: http://pandas.pydata.org/pandas-docs/stable/user_guide/indexing.html#returning-a-view-versus-a-copy\n",
      "  \"\"\"\n",
      "C:\\Users\\Brianna Lytle\\Anaconda3\\lib\\site-packages\\ipykernel_launcher.py:13: SettingWithCopyWarning: \n",
      "A value is trying to be set on a copy of a slice from a DataFrame\n",
      "\n",
      "See the caveats in the documentation: http://pandas.pydata.org/pandas-docs/stable/user_guide/indexing.html#returning-a-view-versus-a-copy\n",
      "  del sys.path[0]\n",
      "C:\\Users\\Brianna Lytle\\Anaconda3\\lib\\site-packages\\ipykernel_launcher.py:9: SettingWithCopyWarning: \n",
      "A value is trying to be set on a copy of a slice from a DataFrame\n",
      "\n",
      "See the caveats in the documentation: http://pandas.pydata.org/pandas-docs/stable/user_guide/indexing.html#returning-a-view-versus-a-copy\n",
      "  if __name__ == '__main__':\n",
      "C:\\Users\\Brianna Lytle\\Anaconda3\\lib\\site-packages\\ipykernel_launcher.py:11: SettingWithCopyWarning: \n",
      "A value is trying to be set on a copy of a slice from a DataFrame\n",
      "\n",
      "See the caveats in the documentation: http://pandas.pydata.org/pandas-docs/stable/user_guide/indexing.html#returning-a-view-versus-a-copy\n",
      "  # This is added back by InteractiveShellApp.init_path()\n",
      "C:\\Users\\Brianna Lytle\\Anaconda3\\lib\\site-packages\\ipykernel_launcher.py:17: SettingWithCopyWarning: \n",
      "A value is trying to be set on a copy of a slice from a DataFrame\n",
      "\n",
      "See the caveats in the documentation: http://pandas.pydata.org/pandas-docs/stable/user_guide/indexing.html#returning-a-view-versus-a-copy\n",
      "C:\\Users\\Brianna Lytle\\Anaconda3\\lib\\site-packages\\ipykernel_launcher.py:15: SettingWithCopyWarning: \n",
      "A value is trying to be set on a copy of a slice from a DataFrame\n",
      "\n",
      "See the caveats in the documentation: http://pandas.pydata.org/pandas-docs/stable/user_guide/indexing.html#returning-a-view-versus-a-copy\n",
      "  from ipykernel import kernelapp as app\n"
     ]
    }
   ],
   "source": [
    "for i in range(len(df['Who introduced you to your partner?'])):\n",
    "    if \"Introduced self or partner introduced self\" in df['Who introduced you to your partner?'][i]:\n",
    "        df['Who introduced you to your partner?'][i] = \"Introduced self or partner introduced self\"\n",
    "    elif \"Mutual friends or acquaintances\" in df['Who introduced you to your partner?'][i]:\n",
    "        df['Who introduced you to your partner?'][i] = \"Mutual friends or acquaintances\"\n",
    "    elif \"Someone else\" in df['Who introduced you to your partner?'][i]:\n",
    "        df['Who introduced you to your partner?'][i] = \"Someone else\"\n",
    "    elif \"Family\" in df['Who introduced you to your partner?'][i]:\n",
    "        df['Who introduced you to your partner?'][i] = \"Family\"\n",
    "    elif \"Co-workers\" in df['Who introduced you to your partner?'][i]:\n",
    "        df['Who introduced you to your partner?'][i] = \"Co-workers\"\n",
    "    elif \"Classmates\" in df['Who introduced you to your partner?'][i]:\n",
    "        df['Who introduced you to your partner?'][i] = \"Classmates\"\n",
    "    elif \"Neighbors\" in df['Who introduced you to your partner?'][i]:\n",
    "        df['Who introduced you to your partner?'][i] = \"Neighbors\"\n",
    "    else:\n",
    "        df['Who introduced you to your partner?'][i] = 'Other'"
   ]
  },
  {
   "cell_type": "code",
   "execution_count": 6,
   "metadata": {},
   "outputs": [
    {
     "data": {
      "text/plain": [
       "Introduced self or partner introduced self    1210\n",
       "Mutual friends or acquaintances                936\n",
       "Someone else                                   288\n",
       "Family                                         247\n",
       "Co-workers                                     191\n",
       "Classmates                                      88\n",
       "Neighbors                                       31\n",
       "Other                                           18\n",
       "Name: Who introduced you to your partner?, dtype: int64"
      ]
     },
     "execution_count": 6,
     "metadata": {},
     "output_type": "execute_result"
    }
   ],
   "source": [
    "df['Who introduced you to your partner?'].value_counts()"
   ]
  },
  {
   "cell_type": "code",
   "execution_count": 7,
   "metadata": {},
   "outputs": [
    {
     "name": "stderr",
     "output_type": "stream",
     "text": [
      "C:\\Users\\Brianna Lytle\\Anaconda3\\lib\\site-packages\\ipykernel_launcher.py:15: SettingWithCopyWarning: \n",
      "A value is trying to be set on a copy of a slice from a DataFrame\n",
      "\n",
      "See the caveats in the documentation: http://pandas.pydata.org/pandas-docs/stable/user_guide/indexing.html#returning-a-view-versus-a-copy\n",
      "  from ipykernel import kernelapp as app\n",
      "C:\\Users\\Brianna Lytle\\Anaconda3\\lib\\site-packages\\ipykernel_launcher.py:5: SettingWithCopyWarning: \n",
      "A value is trying to be set on a copy of a slice from a DataFrame\n",
      "\n",
      "See the caveats in the documentation: http://pandas.pydata.org/pandas-docs/stable/user_guide/indexing.html#returning-a-view-versus-a-copy\n",
      "  \"\"\"\n",
      "C:\\Users\\Brianna Lytle\\Anaconda3\\lib\\site-packages\\ipykernel_launcher.py:13: SettingWithCopyWarning: \n",
      "A value is trying to be set on a copy of a slice from a DataFrame\n",
      "\n",
      "See the caveats in the documentation: http://pandas.pydata.org/pandas-docs/stable/user_guide/indexing.html#returning-a-view-versus-a-copy\n",
      "  del sys.path[0]\n",
      "C:\\Users\\Brianna Lytle\\Anaconda3\\lib\\site-packages\\ipykernel_launcher.py:3: SettingWithCopyWarning: \n",
      "A value is trying to be set on a copy of a slice from a DataFrame\n",
      "\n",
      "See the caveats in the documentation: http://pandas.pydata.org/pandas-docs/stable/user_guide/indexing.html#returning-a-view-versus-a-copy\n",
      "  This is separate from the ipykernel package so we can avoid doing imports until\n",
      "C:\\Users\\Brianna Lytle\\Anaconda3\\lib\\site-packages\\ipykernel_launcher.py:9: SettingWithCopyWarning: \n",
      "A value is trying to be set on a copy of a slice from a DataFrame\n",
      "\n",
      "See the caveats in the documentation: http://pandas.pydata.org/pandas-docs/stable/user_guide/indexing.html#returning-a-view-versus-a-copy\n",
      "  if __name__ == '__main__':\n",
      "C:\\Users\\Brianna Lytle\\Anaconda3\\lib\\site-packages\\ipykernel_launcher.py:7: SettingWithCopyWarning: \n",
      "A value is trying to be set on a copy of a slice from a DataFrame\n",
      "\n",
      "See the caveats in the documentation: http://pandas.pydata.org/pandas-docs/stable/user_guide/indexing.html#returning-a-view-versus-a-copy\n",
      "  import sys\n",
      "C:\\Users\\Brianna Lytle\\Anaconda3\\lib\\site-packages\\ipykernel_launcher.py:11: SettingWithCopyWarning: \n",
      "A value is trying to be set on a copy of a slice from a DataFrame\n",
      "\n",
      "See the caveats in the documentation: http://pandas.pydata.org/pandas-docs/stable/user_guide/indexing.html#returning-a-view-versus-a-copy\n",
      "  # This is added back by InteractiveShellApp.init_path()\n"
     ]
    }
   ],
   "source": [
    "for i in range(len(df['Where did you meet?'])):\n",
    "    if \"Work\" in df['Where did you meet?'][i]:\n",
    "        df['Where did you meet?'][i] = \"Work\"\n",
    "    elif \"School\" in df['Where did you meet?'][i]:\n",
    "        df['Where did you meet?'][i] = \"School\"\n",
    "    elif \"Bar/Nightclub\" in df['Where did you meet?'][i]:\n",
    "        df['Where did you meet?'][i] = \"Bar/Nightclub\"\n",
    "    elif \"Private party\" in df['Where did you meet?'][i]:\n",
    "        df['Where did you meet?'][i] = \"Private party\"\n",
    "    elif \"Vacation/Business Trip\" in df['Where did you meet?'][i]:\n",
    "        df['Where did you meet?'][i] = \"Vacation/Business Trip\"\n",
    "    elif \"Social Organization/Health club/Gym/Volunteer-Service Activity\" in df['Where did you meet?'][i]:\n",
    "        df['Where did you meet?'][i] = \"Social Organization/Health club/Gym/Volunteer-Service Activity\"\n",
    "    else:\n",
    "        df['Where did you meet?'][i] = \"Other\""
   ]
  },
  {
   "cell_type": "code",
   "execution_count": 8,
   "metadata": {
    "scrolled": true
   },
   "outputs": [
    {
     "data": {
      "text/plain": [
       "Other                                                             1321\n",
       "Work                                                               481\n",
       "School                                                             417\n",
       "Bar/Nightclub                                                      335\n",
       "Private party                                                      309\n",
       "Social Organization/Health club/Gym/Volunteer-Service Activity     113\n",
       "Vacation/Business Trip                                              33\n",
       "Name: Where did you meet?, dtype: int64"
      ]
     },
     "execution_count": 8,
     "metadata": {},
     "output_type": "execute_result"
    }
   ],
   "source": [
    "df['Where did you meet?'].value_counts()"
   ]
  },
  {
   "cell_type": "code",
   "execution_count": 9,
   "metadata": {},
   "outputs": [
    {
     "name": "stderr",
     "output_type": "stream",
     "text": [
      "C:\\Users\\Brianna Lytle\\Anaconda3\\lib\\site-packages\\ipykernel_launcher.py:5: SettingWithCopyWarning: \n",
      "A value is trying to be set on a copy of a slice from a DataFrame\n",
      "\n",
      "See the caveats in the documentation: http://pandas.pydata.org/pandas-docs/stable/user_guide/indexing.html#returning-a-view-versus-a-copy\n",
      "  \"\"\"\n",
      "C:\\Users\\Brianna Lytle\\Anaconda3\\lib\\site-packages\\ipykernel_launcher.py:3: SettingWithCopyWarning: \n",
      "A value is trying to be set on a copy of a slice from a DataFrame\n",
      "\n",
      "See the caveats in the documentation: http://pandas.pydata.org/pandas-docs/stable/user_guide/indexing.html#returning-a-view-versus-a-copy\n",
      "  This is separate from the ipykernel package so we can avoid doing imports until\n"
     ]
    }
   ],
   "source": [
    "for i in range(len(df['Did you use internet service to meet?'])):\n",
    "    if \"no\" in df['Did you use internet service to meet?'][i]:\n",
    "        df['Did you use internet service to meet?'][i] = \"no\"\n",
    "    else:\n",
    "        df['Did you use internet service to meet?'][i] = \"Yes\""
   ]
  },
  {
   "cell_type": "code",
   "execution_count": 11,
   "metadata": {},
   "outputs": [],
   "source": [
    "df.to_excel(\"couples_survey1.xlsx\"\n",
    "             )  "
   ]
  },
  {
   "cell_type": "code",
   "execution_count": null,
   "metadata": {},
   "outputs": [],
   "source": []
  }
 ],
 "metadata": {
  "kernelspec": {
   "display_name": "Python 3",
   "language": "python",
   "name": "python3"
  },
  "language_info": {
   "codemirror_mode": {
    "name": "ipython",
    "version": 3
   },
   "file_extension": ".py",
   "mimetype": "text/x-python",
   "name": "python",
   "nbconvert_exporter": "python",
   "pygments_lexer": "ipython3",
   "version": "3.7.4"
  }
 },
 "nbformat": 4,
 "nbformat_minor": 2
}
